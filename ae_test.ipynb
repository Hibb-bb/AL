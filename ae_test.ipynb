{
 "cells": [
  {
   "cell_type": "code",
   "execution_count": 1,
   "metadata": {},
   "outputs": [],
   "source": [
    "import torch\n",
    "import torch.nn as nn"
   ]
  },
  {
   "cell_type": "code",
   "execution_count": 4,
   "metadata": {},
   "outputs": [
    {
     "name": "stdout",
     "output_type": "stream",
     "text": [
      "epoch 0 loss 2.1086340631757463\n",
      "epoch 1 loss 1.6641358818326677\n",
      "epoch 2 loss 1.2446683645248413\n",
      "epoch 3 loss 0.8618668828691755\n",
      "epoch 4 loss 0.5661885525499072\n",
      "epoch 5 loss 0.33387322085244314\n",
      "epoch 6 loss 0.18914908596447536\n",
      "epoch 7 loss 0.10123174743992942\n",
      "epoch 8 loss 0.053059001586266925\n",
      "epoch 9 loss 0.028020965733698437\n",
      "epoch 10 loss 0.014633430034986563\n",
      "epoch 11 loss 0.007827254012227058\n",
      "epoch 12 loss 0.004183665084253464\n",
      "epoch 13 loss 0.0022484022026349392\n",
      "epoch 14 loss 0.0012402930463265096\n",
      "epoch 15 loss 0.0006745037015727055\n",
      "epoch 16 loss 0.0003820376212908221\n",
      "epoch 17 loss 0.00020954891598583863\n",
      "epoch 18 loss 0.0001197344608954154\n",
      "epoch 19 loss 6.785932730833468e-05\n"
     ]
    }
   ],
   "source": [
    "from  torch.utils.data import TensorDataset, DataLoader\n",
    "\n",
    "labels = torch.tensor([i for i in range(10)] * 40)\n",
    "x = torch.rand(400, 50)\n",
    "\n",
    "ds = TensorDataset(labels)\n",
    "dl = DataLoader(ds, batch_size=64, shuffle=True)\n",
    "\n",
    "model = nn.Sequential(\n",
    "    nn.Embedding(10, 128),\n",
    "    nn.Tanh(),\n",
    "    nn.Linear(128, 10)\n",
    ")\n",
    "\n",
    "fg = nn.Sequential(\n",
    "    nn.Linear(50, 200),\n",
    "    nn.Tanh(),\n",
    "    nn.Linear(200, 128),\n",
    "    nn.Tanh()\n",
    ")\n",
    "\n",
    "model = model.cuda()\n",
    "cri = nn.CrossEntropyLoss()\n",
    "opt = torch.optim.Adam(model.parameters(), lr=0.001)\n",
    "opt2 = torch.optim.Adam(fg.parameters(), lr=0.001)\n",
    "for i in range(20):\n",
    "    epoch_loss = 0.0\n",
    "    for x, y in dl:\n",
    "        y = y[0].cuda()\n",
    "        p = model(y)\n",
    "        loss = cri(p, x)\n",
    "        loss.backward()\n",
    "        opt.step()\n",
    "        epoch_loss += loss.item()\n",
    "    print('epoch', i, 'loss', epoch_loss/len(dl))"
   ]
  }
 ],
 "metadata": {
  "kernelspec": {
   "display_name": "Python 3",
   "language": "python",
   "name": "python3"
  },
  "language_info": {
   "codemirror_mode": {
    "name": "ipython",
    "version": 3
   },
   "file_extension": ".py",
   "mimetype": "text/x-python",
   "name": "python",
   "nbconvert_exporter": "python",
   "pygments_lexer": "ipython3",
   "version": "3.8.10"
  },
  "orig_nbformat": 4
 },
 "nbformat": 4,
 "nbformat_minor": 2
}
